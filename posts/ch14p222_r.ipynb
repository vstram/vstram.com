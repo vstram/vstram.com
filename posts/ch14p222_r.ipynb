{
 "cells": [
  {
   "cell_type": "markdown",
   "metadata": {},
   "source": [
    "Notebook em **R** que mostra procedimentos para a obtenção de uma **Regressão Linear e de uma Correlação entre variáveis** a partir de um exemplo do livro **[Six Sigma: A Complete Step-by-Step Guide](https://www.sixsigmacouncil.org/wp-content/uploads/2018/08/Six-Sigma-A-Complete-Step-by-Step-Guide.pdf)**\n",
    "\n",
    "<!-- TEASER_END -->"
   ]
  },
  {
   "cell_type": "markdown",
   "metadata": {},
   "source": [
    "# Exemplos do livro Six Sigma: A Complete Step-by-Step Guide\n",
    "\n",
    "![Six Sigma: A Complete Step-by-Step Guide](https://raw.githubusercontent.com/vstram/SixSigmaInR/master/book_cover-small.jpg)"
   ]
  },
  {
   "cell_type": "markdown",
   "metadata": {},
   "source": [
    "## Conteúdo:\n",
    "* [Exercício](#Exercício)\n",
    "* [Procedimento](#Procedimento)\n",
    "* [Solução Alternativa](#Solução-Alternativa)\n",
    "* [Referências](#Referências)"
   ]
  },
  {
   "cell_type": "markdown",
   "metadata": {},
   "source": [
    "## Exercício\n",
    "\n",
    "O exercício (pág 222) menciona um experimento realizado a respeito de um processo de preparação de biscoitos num forno. Neste experimento, foi verificado a qualidade da preparação do biscoito em diferentes temperaturas de forno. Uma qualidade \"1\" significa que o biscoito não foi assado, \"5\" indica que foi perfeitamente assado e \"10\" significa que foi completamente queimado. O livro não cita explicitamente, mas acredito que o tempo de forno considerado neste experimento é constante, e que o forno foi anteriormente pré-aquecido para a temperatura considerada antes de realizar as medições.\n",
    "\n",
    "Pede-se para plotar uma linha de tendência entre temperatura do forno e qualidade do biscoito e verificar se há uma correlação. Assim como no notebook [Regressão Linear - R - Six Sigma - CSSC](link://post_path/posts/regressao_linear-r-six-sigma-cssc/), usaremos a função `glm` -- Generalized Linear Model -- para traçar a regressão linear.\n"
   ]
  },
  {
   "cell_type": "markdown",
   "metadata": {},
   "source": [
    "## Procedimento"
   ]
  },
  {
   "cell_type": "code",
   "execution_count": 1,
   "metadata": {},
   "outputs": [],
   "source": [
    "# define um tamanho padrão para o gráfico\n",
    "options(repr.plot.width=16, repr.plot.height=8) "
   ]
  },
  {
   "cell_type": "markdown",
   "metadata": {},
   "source": [
    "### Carregar os dados a partir do arquivo CSV"
   ]
  },
  {
   "cell_type": "code",
   "execution_count": 2,
   "metadata": {},
   "outputs": [
    {
     "data": {
      "text/html": [
       "<table>\n",
       "<caption>A data.frame: 12 × 2</caption>\n",
       "<thead>\n",
       "\t<tr><th scope=col>Temperature</th><th scope=col>Doneness</th></tr>\n",
       "\t<tr><th scope=col>&lt;int&gt;</th><th scope=col>&lt;dbl&gt;</th></tr>\n",
       "</thead>\n",
       "<tbody>\n",
       "\t<tr><td>200</td><td> 1.0</td></tr>\n",
       "\t<tr><td>225</td><td> 1.2</td></tr>\n",
       "\t<tr><td>250</td><td> 2.2</td></tr>\n",
       "\t<tr><td>275</td><td> 2.4</td></tr>\n",
       "\t<tr><td>300</td><td> 4.0</td></tr>\n",
       "\t<tr><td>325</td><td> 5.0</td></tr>\n",
       "\t<tr><td>350</td><td> 5.2</td></tr>\n",
       "\t<tr><td>375</td><td> 6.2</td></tr>\n",
       "\t<tr><td>400</td><td> 8.0</td></tr>\n",
       "\t<tr><td>425</td><td> 8.9</td></tr>\n",
       "\t<tr><td>450</td><td> 9.5</td></tr>\n",
       "\t<tr><td>475</td><td>10.0</td></tr>\n",
       "</tbody>\n",
       "</table>\n"
      ],
      "text/latex": [
       "A data.frame: 12 × 2\n",
       "\\begin{tabular}{ll}\n",
       " Temperature & Doneness\\\\\n",
       " <int> & <dbl>\\\\\n",
       "\\hline\n",
       "\t 200 &  1.0\\\\\n",
       "\t 225 &  1.2\\\\\n",
       "\t 250 &  2.2\\\\\n",
       "\t 275 &  2.4\\\\\n",
       "\t 300 &  4.0\\\\\n",
       "\t 325 &  5.0\\\\\n",
       "\t 350 &  5.2\\\\\n",
       "\t 375 &  6.2\\\\\n",
       "\t 400 &  8.0\\\\\n",
       "\t 425 &  8.9\\\\\n",
       "\t 450 &  9.5\\\\\n",
       "\t 475 & 10.0\\\\\n",
       "\\end{tabular}\n"
      ],
      "text/markdown": [
       "\n",
       "A data.frame: 12 × 2\n",
       "\n",
       "| Temperature &lt;int&gt; | Doneness &lt;dbl&gt; |\n",
       "|---|---|\n",
       "| 200 |  1.0 |\n",
       "| 225 |  1.2 |\n",
       "| 250 |  2.2 |\n",
       "| 275 |  2.4 |\n",
       "| 300 |  4.0 |\n",
       "| 325 |  5.0 |\n",
       "| 350 |  5.2 |\n",
       "| 375 |  6.2 |\n",
       "| 400 |  8.0 |\n",
       "| 425 |  8.9 |\n",
       "| 450 |  9.5 |\n",
       "| 475 | 10.0 |\n",
       "\n"
      ],
      "text/plain": [
       "   Temperature Doneness\n",
       "1  200          1.0    \n",
       "2  225          1.2    \n",
       "3  250          2.2    \n",
       "4  275          2.4    \n",
       "5  300          4.0    \n",
       "6  325          5.0    \n",
       "7  350          5.2    \n",
       "8  375          6.2    \n",
       "9  400          8.0    \n",
       "10 425          8.9    \n",
       "11 450          9.5    \n",
       "12 475         10.0    "
      ]
     },
     "metadata": {},
     "output_type": "display_data"
    }
   ],
   "source": [
    "data <- read.csv(\"ch14p222.txt\", header=TRUE);\n",
    "data"
   ]
  },
  {
   "cell_type": "markdown",
   "metadata": {},
   "source": [
    "### Plotar os dados no gráfico"
   ]
  },
  {
   "cell_type": "code",
   "execution_count": 3,
   "metadata": {},
   "outputs": [
    {
     "data": {
      "image/png": "[encoded data removed]",
      "text/plain": [
       "Plot with title \"Doneness of Cake\""
      ]
     },
     "metadata": {
      "image/png": {
       "height": 480,
       "width": 960
      }
     },
     "output_type": "display_data"
    }
   ],
   "source": [
    "# Cria o gráfico de linha com os dados da tabela\n",
    "plot(\n",
    "    data$Doneness, \n",
    "    xaxt=\"n\", \n",
    "    main=\"Doneness of Cake\"\n",
    ")\n",
    "# Configura os eixos do gráfico\n",
    "axis(1, at=seq(1, length(data$Temperature)), labels=data$Temperature, las=2)\n",
    "\n",
    "# Cria uma linha que ajusta uma regressão nos pontos \n",
    "fit <- glm(data$Doneness ~ seq(1, length(data$Doneness)))\n",
    "abline(fit)"
   ]
  },
  {
   "cell_type": "markdown",
   "metadata": {},
   "source": [
    "As estatísticas básicas dos dados coletados indicam que são \"bem comportados\", em que `Doneness` apresenta mediana próxima a média, e os diferentes quartis estão quase que uniformemente distribuídos."
   ]
  },
  {
   "cell_type": "code",
   "execution_count": 4,
   "metadata": {},
   "outputs": [
    {
     "data": {
      "text/plain": [
       "  Temperature       Doneness     \n",
       " Min.   :200.0   Min.   : 1.000  \n",
       " 1st Qu.:268.8   1st Qu.: 2.350  \n",
       " Median :337.5   Median : 5.100  \n",
       " Mean   :337.5   Mean   : 5.300  \n",
       " 3rd Qu.:406.2   3rd Qu.: 8.225  \n",
       " Max.   :475.0   Max.   :10.000  "
      ]
     },
     "metadata": {},
     "output_type": "display_data"
    }
   ],
   "source": [
    "summary(data)"
   ]
  },
  {
   "cell_type": "markdown",
   "metadata": {},
   "source": [
    "O histograma abaixo evidencia este comportamento de `Doneness`, revelando uma distribuição bem próxima da retangular."
   ]
  },
  {
   "cell_type": "code",
   "execution_count": 5,
   "metadata": {},
   "outputs": [
    {
     "data": {
      "image/png": "[encoded data removed]",
      "text/plain": [
       "Plot with title \"Histogram of data$Doneness\""
      ]
     },
     "metadata": {
      "image/png": {
       "height": 480,
       "width": 960
      }
     },
     "output_type": "display_data"
    }
   ],
   "source": [
    "hist(data$Doneness)"
   ]
  },
  {
   "cell_type": "markdown",
   "metadata": {},
   "source": [
    "Podemos inspecionar também o conteúdo da variavel fit e observar os valores do coeficiente angular da linha `0.8930` e o coeficiente linear `-0.5045`."
   ]
  },
  {
   "cell_type": "code",
   "execution_count": 6,
   "metadata": {},
   "outputs": [
    {
     "data": {
      "text/plain": [
       "\n",
       "Call:  glm(formula = data$Doneness ~ seq(1, length(data$Doneness)))\n",
       "\n",
       "Coefficients:\n",
       "                  (Intercept)  seq(1, length(data$Doneness))  \n",
       "                      -0.5045                         0.8930  \n",
       "\n",
       "Degrees of Freedom: 11 Total (i.e. Null);  10 Residual\n",
       "Null Deviance:\t    115.9 \n",
       "Residual Deviance: 1.863 \tAIC: 17.7"
      ]
     },
     "metadata": {},
     "output_type": "display_data"
    }
   ],
   "source": [
    "fit"
   ]
  },
  {
   "cell_type": "markdown",
   "metadata": {},
   "source": [
    "## Solução Alternativa\n",
    "\n",
    "Para esta solução alternativa usaremos a excelente biblioteca `ggpubr`, cuja autoria é de [kassambara](https://github.com/kassambara/ggpubr). Para instalar, descomente e execute a linha de código abaixo:"
   ]
  },
  {
   "cell_type": "code",
   "execution_count": 7,
   "metadata": {},
   "outputs": [],
   "source": [
    "# install.packages(\"ggpubr\")"
   ]
  },
  {
   "cell_type": "code",
   "execution_count": 8,
   "metadata": {},
   "outputs": [
    {
     "name": "stderr",
     "output_type": "stream",
     "text": [
      "Loading required package: ggplot2\n",
      "\n"
     ]
    }
   ],
   "source": [
    "library(\"ggpubr\")"
   ]
  },
  {
   "cell_type": "markdown",
   "metadata": {},
   "source": [
    "Antes de plotar o gráfico de correlação usando a `ggpubr`, vamos verificar alguns resultados numéricos revelados pela função `cor.test`:"
   ]
  },
  {
   "cell_type": "code",
   "execution_count": 9,
   "metadata": {},
   "outputs": [
    {
     "data": {
      "text/plain": [
       "\n",
       "\tPearson's product-moment correlation\n",
       "\n",
       "data:  data$Temperature and data$Doneness\n",
       "t = 24.741, df = 10, p-value = 2.659e-10\n",
       "alternative hypothesis: true correlation is not equal to 0\n",
       "95 percent confidence interval:\n",
       " 0.9705131 0.9978089\n",
       "sample estimates:\n",
       "      cor \n",
       "0.9919303 \n"
      ]
     },
     "metadata": {},
     "output_type": "display_data"
    }
   ],
   "source": [
    "cor.test(data$Temperature, data$Doneness, method = c(\"pearson\", \"kendall\", \"spearman\"))"
   ]
  },
  {
   "cell_type": "code",
   "execution_count": 10,
   "metadata": {},
   "outputs": [
    {
     "name": "stderr",
     "output_type": "stream",
     "text": [
      "`geom_smooth()` using formula 'y ~ x'\n",
      "\n"
     ]
    },
    {
     "data": {
      "image/png": "[encoded data removed]",
      "text/plain": [
       "plot without title"
      ]
     },
     "metadata": {
      "image/png": {
       "height": 480,
       "width": 960
      }
     },
     "output_type": "display_data"
    }
   ],
   "source": [
    "ggscatter(data, x = \"Temperature\", y = \"Doneness\", \n",
    "          add = \"reg.line\", conf.int = TRUE, \n",
    "          cor.coef = TRUE, cor.method = \"pearson\",\n",
    "          xlab = \"Temperature\", ylab = \"Doneness\") + \n",
    "theme(\n",
    "    plot.title = element_text(size=30, hjust = 0.5), # define tamanho e alinhamento do título\n",
    "    plot.subtitle = element_text(size=17, hjust = 0.5), # define tamanho e alinhamento do subtítulo\n",
    "    axis.text = element_text(size=17), # define tamanho\n",
    "    axis.title = element_text(size=22),# define tamanho do título do eixo\n",
    "    legend.text = element_text(size=17), # define tamanho da legenda\n",
    "    legend.title = element_text(size=15), # define tamanho do titulo da legenda\n",
    ")"
   ]
  },
  {
   "cell_type": "markdown",
   "metadata": {},
   "source": [
    "Ao observar o gráfico acima, fica nítido a correlação entre temperatura do forno e a qualidade do biscoito."
   ]
  },
  {
   "cell_type": "markdown",
   "metadata": {},
   "source": [
    "## Referências\n",
    "\n",
    "Este notebook contém exemplos do livro Six Sigma: A Complete Step-by-Step Guide disponibilizado pelo The Council for Six Sigma Certification\n",
    "\n",
    "Consulte:\n",
    "\n",
    "* [R Docs - glm](https://www.rdocumentation.org/packages/stats/versions/3.6.2/topics/glm)\n",
    "* [cor.test](https://www.rdocumentation.org/packages/stats/versions/3.6.2/topics/cor.test)\n",
    "* [Correlation Test Between Two Variables in R](http://www.sthda.com/english/wiki/correlation-test-between-two-variables-in-r)\n"
   ]
  }
 ],
 "metadata": {
  "kernelspec": {
   "display_name": "R",
   "language": "R",
   "name": "ir"
  },
  "language_info": {
   "codemirror_mode": "r",
   "file_extension": ".r",
   "mimetype": "text/x-r-source",
   "name": "R",
   "pygments_lexer": "r",
   "version": "4.0.2"
  },
  "nikola": {
   "category": "estatistica",
   "date": "2020-09-20 18:35:30 UTC-03:00",
   "description": "",
   "link": "",
   "slug": "grafico-regressao-correlacao-r-six-sigma",
   "tags": [
    "jupyter",
    "six sigma",
    "linear correlation",
    "r",
    "ggpubr",
    "ggplot2"
   ],
   "title": "Regressão Linear - Correlação - R - Six Sigma",
   "type": "text"
  }
 },
 "nbformat": 4,
 "nbformat_minor": 4
}
