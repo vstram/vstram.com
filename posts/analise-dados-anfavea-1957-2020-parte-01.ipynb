{
 "cells": [
  {
   "cell_type": "markdown",
   "metadata": {},
   "source": [
    "Análise preliminar dos dados disponibilizados pela ANFAVEA sobre os licenciamentos, produção, importação e exportação de veículos de passeio no Brasil, desde janeiro de 1957 até abril de 2020\n",
    "\n",
    "\n",
    "<!-- TEASER_END -->"
   ]
  },
  {
   "cell_type": "markdown",
   "metadata": {},
   "source": [
    "# Objetivo \n",
    "O objetivo deste artigo é revelar algumas informações que estão ocultas nos dados disponibilzados pela ANFAVEA - Associação Nacional dos Fabricantes de Veículos Automotores do Brasil. Todos os meses, a ANFAVEA disponibiliza uma planilha Excel com os dados de fabricação e licenciamento de veículos no Brasil, desde Janeiro de 1957. Temos assim uma grande base histórica e, como voces verão ao longo deste artigo, a fabricação e comércio de veículos do Brasil é repleta de (predominantemente) tropeços e (alguns) avanços, tornando desafiador o papel do empresário da cadeia da indústria automobilistica, que movimenta não somente os veículos em si, mas também o mercado de autopeças, eletrônicos, plásticos, artigos de borracha, dentre muitos outros.\n"
   ]
  },
  {
   "cell_type": "markdown",
   "metadata": {},
   "source": [
    "# Introdução\n",
    "\n",
    "Os dados são disponibilizados em formato Microsoft Excel (*.xlsx) através do link [ANFAVEA Estatísticas](http://anfavea.com.br/estatisticas). Há links para informações sobre produção, comercialização, importação e exportação de veículos de passeio, caminhões leves e pesados, máquinas agrícolas e veículos fora-de-estrada.\n",
    "\n",
    "As informações estão agrupadas em dados específicos para um determinado ano e em dados que abrangem uma série histórica. Neste artigo, iremos utilizar as informações da planilha disponibilizada através do link [Séries mensais, a partir de 1957, de autoveiculos por segmento ...](http://www.anfavea.com.br/docs/SeriesTemporais_Autoveiculos.xlsm). Nos próximos artigos iremos explorar mais as demais informações presentes nesta interessante página da Anfavea.\n",
    "\n"
   ]
  },
  {
   "cell_type": "markdown",
   "metadata": {},
   "source": [
    "# Procedimento\n",
    "\n",
    "## Inspeção dos dados de entrada\n",
    "\n",
    "Após fazer o download do arquivo e abrir no Microsoft Excel, obtemos a planilha mostrada na figura abaixo:\n",
    "\n",
    "![Planilha ANFAVEA Série Histórica](/images/Anfavea-Planilha-Serie-Historica.png)\n",
    "\n",
    "A planilha é composta de cinco grupos de colunas: \"AUTOVEICULOS TOTAL\", \"AUTOMÓVEIS\", \"COMERCIAIS LEVES\", \"CAMINHÕES\" e \"ÔNIBUS\". Cada grupo por sua vez é composto das seguintes colunas: \"Licenciamento Total\", \"Licenciamento Nacionais\", \"Licenciamento Importados\", \"Produção\" e \"Exportação\".\n",
    "\n",
    "Neste artigo estamos iteressados apenas no segundo grupo, referente aos veículos de passeio. Assim, após esta primeira inspeção nos dados, já determinamos o foco da análise e poderemos seguir em frente com a codificação necessária para importar os dados e fazer alguns estudos simplificados.\n"
   ]
  },
  {
   "cell_type": "markdown",
   "metadata": {},
   "source": [
    "## Bibliotecas Necessárias\n",
    "\n",
    "Basicamente, usaremos [pandas](https://pandas.pydata.org/pandas-docs/stable/index.html) e [numpy](https://numpy.org/) para carregar, manipular e estruturar os dados, e usaremos a biblioteca de código [matplotlib](https://matplotlib.org/), embutida no pandas, para plotar os resultados das análises. \n"
   ]
  },
  {
   "cell_type": "code",
   "execution_count": 1,
   "metadata": {},
   "outputs": [
    {
     "name": "stdout",
     "output_type": "stream",
     "text": [
      "Populating the interactive namespace from numpy and matplotlib\n"
     ]
    }
   ],
   "source": [
    "import numpy as np\n",
    "import pandas as pd\n",
    "\n",
    "%pylab inline "
   ]
  },
  {
   "cell_type": "markdown",
   "metadata": {},
   "source": [
    "## Preparação\n",
    "\n",
    "Como passo preliminar antes de importar os dados, é preciso definir nomes mais convenientes para as colunas dos dados. Tais nomes serão mais curtos e em inglês. Como preferência pessoal, não costumo misturar idiomas nos códigos que escrevo. Assim, como as linguagens são definidas em inglês, meus comentários, classes, métodos e nomes de variáveis também são nesse idioma. Isso é importante pois facilita o entendimento e a colaboração com desenvolvedores de outros países, quanto necessito de auxílio durante a escrita de um trecho de código.\n"
   ]
  },
  {
   "cell_type": "code",
   "execution_count": 2,
   "metadata": {},
   "outputs": [
    {
     "name": "stdout",
     "output_type": "stream",
     "text": [
      "Columns count: 26\n",
      "['date', 'grandtotal_total', 'grandtotal_lic_national', 'grandtotal_lic_imported', 'grandtotal_production', 'grandtotal_exported', 'automobile_total', 'automobile_lic_national', 'automobile_lic_imported', 'automobile_production', 'automobile_exported', 'light_commercial_total', 'light_commercial_lic_national', 'light_commercial_lic_imported', 'light_commercial_production', 'light_commercial_exported', 'truck_total', 'truck_lic_national', 'truck_lic_imported', 'truck_production', 'truck_exported', 'bus_total', 'bus_lic_national', 'bus_lic_imported', 'bus_production', 'bus_exported']\n"
     ]
    }
   ],
   "source": [
    "# defines better column names for this dataset\n",
    "dataset_group_names = ['grandtotal', 'automobile', 'light_commercial', 'truck', 'bus']\n",
    "dataset_column_names = ['total', 'lic_national', 'lic_imported', 'production', 'exported']\n",
    "\n",
    "column_names = ['date'] # this column will be de index\n",
    "\n",
    "for group_name in dataset_group_names:\n",
    "    for col_name in dataset_column_names:\n",
    "        column_names.append(\"{}_{}\".format(group_name, col_name))\n",
    "\n",
    "print(\"Columns count: {}\".format(len(column_names)))\n",
    "print(column_names)"
   ]
  },
  {
   "cell_type": "markdown",
   "metadata": {},
   "source": [
    "## Leitura dos dados\n",
    "\n",
    "Usaremos o método `read_excel` do pandas para ler os dados diretamente a partir da planilha Excel. Observe que, na mesma chamada do método, pulamos as quatro primeiras linhas (referentes ao cabeçalho da planilha), usamos os nomes simplificados para colunas conforme definimos anteriormente, definimos como limite de leitura somente as 760 primeiras linhas (até abril de 2020, que são as linhas que contém dados até o momento em que este artigo está sendo escrito), importamos somente as colunas entre A e Z (caso isso não seja feito o pandas importa uma coluna extra) e finalmente definimos como index a primeira coluna (a coluna com as datas).\n",
    "\n",
    "Como parte da inspeção inicial, usamos o método `info()` para um primeiro contato com os dados importados."
   ]
  },
  {
   "cell_type": "code",
   "execution_count": 3,
   "metadata": {},
   "outputs": [
    {
     "name": "stdout",
     "output_type": "stream",
     "text": [
      "<class 'pandas.core.frame.DataFrame'>\n",
      "DatetimeIndex: 760 entries, 1957-01-01 to 2020-04-01\n",
      "Data columns (total 25 columns):\n",
      "grandtotal_total                 760 non-null int64\n",
      "grandtotal_lic_national          760 non-null int64\n",
      "grandtotal_lic_imported          760 non-null int64\n",
      "grandtotal_production            760 non-null int64\n",
      "grandtotal_exported              760 non-null int64\n",
      "automobile_total                 760 non-null int64\n",
      "automobile_lic_national          760 non-null int64\n",
      "automobile_lic_imported          760 non-null int64\n",
      "automobile_production            760 non-null int64\n",
      "automobile_exported              760 non-null int64\n",
      "light_commercial_total           760 non-null int64\n",
      "light_commercial_lic_national    760 non-null int64\n",
      "light_commercial_lic_imported    760 non-null int64\n",
      "light_commercial_production      760 non-null int64\n",
      "light_commercial_exported        760 non-null int64\n",
      "truck_total                      760 non-null int64\n",
      "truck_lic_national               760 non-null int64\n",
      "truck_lic_imported               760 non-null int64\n",
      "truck_production                 760 non-null int64\n",
      "truck_exported                   760 non-null int64\n",
      "bus_total                        760 non-null int64\n",
      "bus_lic_national                 760 non-null int64\n",
      "bus_lic_imported                 760 non-null int64\n",
      "bus_production                   760 non-null int64\n",
      "bus_exported                     760 non-null int64\n",
      "dtypes: int64(25)\n",
      "memory usage: 154.4 KB\n"
     ]
    }
   ],
   "source": [
    "# Loads the Anfavea historical dataset, from january/1957 to april/2020\n",
    "vehicle_datafilename = 'data/SeriesTemporais_Autoveiculos.xlsm'\n",
    "vehicle_df = pd.read_excel(vehicle_datafilename, skiprows=4, header=0, names=column_names, usecols='A:Z', nrows=760, index_col=0)\n",
    "\n",
    "# Shows basic info\n",
    "vehicle_df.info()"
   ]
  },
  {
   "cell_type": "markdown",
   "metadata": {},
   "source": [
    "Ao observar os resultados deste primeiro contato com os dados, notamos que estes estão \"bem comportados\". Isto é, não há dados inválidos ou faltantes e o algoritmo de detecção automática de tipos de dados do `pandas` foi capaz de identificar corretamente os tipos `int64` de cada coluna, bem como o tipo `DatetimeIndex` da coluna dos índices. A partir deste momento, poderemos realizar investigações nos dados sem outra ação adicional para tratamento ou validação dos dados."
   ]
  },
  {
   "cell_type": "markdown",
   "metadata": {},
   "source": [
    "## Foco nos Automóveis\n",
    "\n",
    "O primeiro recorte nos dados que faremos será com relação a obtenção dos dados referentes aos veículos de passeio, conforme descrito no Objetivo deste artigo. Aqui a preparação que realizamos anteriormente com respeito aos nomes das colunas irá nos ajudar. Iremos filtrar as colunas que começam com `automobile`."
   ]
  },
  {
   "cell_type": "code",
   "execution_count": 4,
   "metadata": {},
   "outputs": [
    {
     "data": {
      "text/html": [
       "<div>\n",
       "<style scoped>\n",
       "    .dataframe tbody tr th:only-of-type {\n",
       "        vertical-align: middle;\n",
       "    }\n",
       "\n",
       "    .dataframe tbody tr th {\n",
       "        vertical-align: top;\n",
       "    }\n",
       "\n",
       "    .dataframe thead th {\n",
       "        text-align: right;\n",
       "    }\n",
       "</style>\n",
       "<table border=\"1\" class=\"dataframe\">\n",
       "  <thead>\n",
       "    <tr style=\"text-align: right;\">\n",
       "      <th></th>\n",
       "      <th>automobile_total</th>\n",
       "      <th>automobile_lic_national</th>\n",
       "      <th>automobile_lic_imported</th>\n",
       "      <th>automobile_production</th>\n",
       "      <th>automobile_exported</th>\n",
       "    </tr>\n",
       "    <tr>\n",
       "      <th>date</th>\n",
       "      <th></th>\n",
       "      <th></th>\n",
       "      <th></th>\n",
       "      <th></th>\n",
       "      <th></th>\n",
       "    </tr>\n",
       "  </thead>\n",
       "  <tbody>\n",
       "    <tr>\n",
       "      <th>2019-05-01</th>\n",
       "      <td>198776</td>\n",
       "      <td>183484</td>\n",
       "      <td>15292</td>\n",
       "      <td>230351</td>\n",
       "      <td>34983</td>\n",
       "    </tr>\n",
       "    <tr>\n",
       "      <th>2019-06-01</th>\n",
       "      <td>181297</td>\n",
       "      <td>167735</td>\n",
       "      <td>13562</td>\n",
       "      <td>190859</td>\n",
       "      <td>33127</td>\n",
       "    </tr>\n",
       "    <tr>\n",
       "      <th>2019-07-01</th>\n",
       "      <td>195854</td>\n",
       "      <td>181020</td>\n",
       "      <td>14834</td>\n",
       "      <td>221869</td>\n",
       "      <td>35773</td>\n",
       "    </tr>\n",
       "    <tr>\n",
       "      <th>2019-08-01</th>\n",
       "      <td>195917</td>\n",
       "      <td>180119</td>\n",
       "      <td>15798</td>\n",
       "      <td>222648</td>\n",
       "      <td>30228</td>\n",
       "    </tr>\n",
       "    <tr>\n",
       "      <th>2019-09-01</th>\n",
       "      <td>187818</td>\n",
       "      <td>173358</td>\n",
       "      <td>14460</td>\n",
       "      <td>203198</td>\n",
       "      <td>27424</td>\n",
       "    </tr>\n",
       "    <tr>\n",
       "      <th>2019-10-01</th>\n",
       "      <td>204532</td>\n",
       "      <td>189489</td>\n",
       "      <td>15043</td>\n",
       "      <td>239005</td>\n",
       "      <td>23813</td>\n",
       "    </tr>\n",
       "    <tr>\n",
       "      <th>2019-11-01</th>\n",
       "      <td>196770</td>\n",
       "      <td>182707</td>\n",
       "      <td>14063</td>\n",
       "      <td>186426</td>\n",
       "      <td>25140</td>\n",
       "    </tr>\n",
       "    <tr>\n",
       "      <th>2019-12-01</th>\n",
       "      <td>215190</td>\n",
       "      <td>196835</td>\n",
       "      <td>18355</td>\n",
       "      <td>141689</td>\n",
       "      <td>22603</td>\n",
       "    </tr>\n",
       "    <tr>\n",
       "      <th>2020-01-01</th>\n",
       "      <td>154581</td>\n",
       "      <td>141860</td>\n",
       "      <td>12721</td>\n",
       "      <td>162376</td>\n",
       "      <td>17445</td>\n",
       "    </tr>\n",
       "    <tr>\n",
       "      <th>2020-02-01</th>\n",
       "      <td>165150</td>\n",
       "      <td>153332</td>\n",
       "      <td>11818</td>\n",
       "      <td>173414</td>\n",
       "      <td>32117</td>\n",
       "    </tr>\n",
       "    <tr>\n",
       "      <th>2020-03-01</th>\n",
       "      <td>131275</td>\n",
       "      <td>122211</td>\n",
       "      <td>9064</td>\n",
       "      <td>156498</td>\n",
       "      <td>24852</td>\n",
       "    </tr>\n",
       "    <tr>\n",
       "      <th>2020-04-01</th>\n",
       "      <td>39501</td>\n",
       "      <td>35847</td>\n",
       "      <td>3654</td>\n",
       "      <td>946</td>\n",
       "      <td>5829</td>\n",
       "    </tr>\n",
       "  </tbody>\n",
       "</table>\n",
       "</div>"
      ],
      "text/plain": [
       "            automobile_total  automobile_lic_national  \\\n",
       "date                                                    \n",
       "2019-05-01            198776                   183484   \n",
       "2019-06-01            181297                   167735   \n",
       "2019-07-01            195854                   181020   \n",
       "2019-08-01            195917                   180119   \n",
       "2019-09-01            187818                   173358   \n",
       "2019-10-01            204532                   189489   \n",
       "2019-11-01            196770                   182707   \n",
       "2019-12-01            215190                   196835   \n",
       "2020-01-01            154581                   141860   \n",
       "2020-02-01            165150                   153332   \n",
       "2020-03-01            131275                   122211   \n",
       "2020-04-01             39501                    35847   \n",
       "\n",
       "            automobile_lic_imported  automobile_production  \\\n",
       "date                                                         \n",
       "2019-05-01                    15292                 230351   \n",
       "2019-06-01                    13562                 190859   \n",
       "2019-07-01                    14834                 221869   \n",
       "2019-08-01                    15798                 222648   \n",
       "2019-09-01                    14460                 203198   \n",
       "2019-10-01                    15043                 239005   \n",
       "2019-11-01                    14063                 186426   \n",
       "2019-12-01                    18355                 141689   \n",
       "2020-01-01                    12721                 162376   \n",
       "2020-02-01                    11818                 173414   \n",
       "2020-03-01                     9064                 156498   \n",
       "2020-04-01                     3654                    946   \n",
       "\n",
       "            automobile_exported  \n",
       "date                             \n",
       "2019-05-01                34983  \n",
       "2019-06-01                33127  \n",
       "2019-07-01                35773  \n",
       "2019-08-01                30228  \n",
       "2019-09-01                27424  \n",
       "2019-10-01                23813  \n",
       "2019-11-01                25140  \n",
       "2019-12-01                22603  \n",
       "2020-01-01                17445  \n",
       "2020-02-01                32117  \n",
       "2020-03-01                24852  \n",
       "2020-04-01                 5829  "
      ]
     },
     "execution_count": 4,
     "metadata": {},
     "output_type": "execute_result"
    }
   ],
   "source": [
    "automobile_df = vehicle_df.loc[:, vehicle_df.columns.str.startswith('automobile')]\n",
    "automobile_df.tail(12) "
   ]
  },
  {
   "cell_type": "markdown",
   "metadata": {},
   "source": [
    "A tabela acima mostra os doze últimos valores. Mesmo sem nenhum resultado gráfico, já fica nítido o efeito da pandemia do novo corona virus sobre os números de Abril/2020. Muitas vezes, quanto analisamos dados em forma de tabela, é importante \"treinar os sentidos\" e procurar identificar alguns padrões nos dados (tendências, quedas, proporções, correlações, etc). Isso ajuda a manter nossa percepção afiada e abrevia o tempo necessário para fazer as análises. "
   ]
  },
  {
   "cell_type": "markdown",
   "metadata": {},
   "source": [
    "Outra ação que se faz necessária antes de mostrarmos o primeiro resultado de forma gráfica é consolidar os números em cada ano. Para tal, usaremos o método `resample` passando como parâmetro `'A'` para consolidar de forma anual os valores. A função de consolidação sera soma: `sum()`.\n",
    "\n",
    "Plotaremos estes resultados em um gráfico de barras empilhadas, mostrando os licenciamentos de veículos de produção nacional e importados."
   ]
  },
  {
   "cell_type": "code",
   "execution_count": 5,
   "metadata": {},
   "outputs": [
    {
     "data": {
      "text/plain": [
       "<matplotlib.axes._subplots.AxesSubplot at 0x7f4c90b3e160>"
      ]
     },
     "execution_count": 5,
     "metadata": {},
     "output_type": "execute_result"
    },
    {
     "data": {
      "image/png": "[encoded data removed]",
      "text/plain": [
       "<Figure size 1512x432 with 1 Axes>"
      ]
     },
     "metadata": {
      "needs_background": "light"
     },
     "output_type": "display_data"
    }
   ],
   "source": [
    "automobile_lic_yearly_df = automobile_df[['automobile_lic_national', 'automobile_lic_imported']].resample('A', kind='period').sum()\n",
    "\n",
    "automobile_lic_yearly_df.plot(\n",
    "    title='Licensed Automobiles in Brazil - National & Imported - 1957 - 2020',\n",
    "    kind='bar',\n",
    "    figsize=(21,6),\n",
    "    stacked=True\n",
    ")\n"
   ]
  },
  {
   "cell_type": "markdown",
   "metadata": {},
   "source": [
    "Como esperado, o gráfico mostra uma curva crescente, compatível com o crescimento da participação da indústria automobilistica na economia brasileira a partir da criação da instalação da primeira fábrica de automóveis no Brasil pelas indústrias ROMI, no interior do estado de São Paulo (Santa Bárbara d'Oeste), onde foi produzido o veículo Romi-Isetta em 1956.\n",
    "\n",
    "A partir 1990 houve a abertura da economia brasileira para a importação de veículos. Esta abertura teve o aspecto positivo de forçar a indústria nacional a aprimorar os veículos produzidos localmente, mas por outro lado provocou o fechamento de muitas pequenas fabricantes genuinamente nacionais sufocadas pela carga tributária imposta pelo governo. A citar a fabricante Gurgel, que pediu concordada em 1993 para finalmente encerrar suas atividades em 1996.\n",
    "\n",
    "Continuando a tentar colocar uma perspectiva história na observação deste gráfico, vale mencionar que a partir de 1998 houve um grande impulso na indústria automobilistica brasileira, com a chegada de fabricantes como Renault (1998), Mercedes (1999), dentre outros, bem como a expansão de fabricantes que já estavam presentes no Brasil.\n",
    "\n",
    "Na seção seguinte vamos comprovar que a decisão destas montadoras em expandir negócios no brasil a partir de 1998 foi justificada.\n"
   ]
  },
  {
   "cell_type": "markdown",
   "metadata": {},
   "source": [
    "## Crescimento da Comercialização\n",
    "\n",
    "Nesta seção analisaremos a variação percentual ano após ano da comercialização de veículos, nacionais e importados, a partir da abertura do mercado em 1990, mas tomando como referência o ano de 1991 (primeiro ano \"cheio\" após esta abertura).\n",
    "\n",
    "Fica nítido no gráfico o forte crescimento das vendas de importados até 1995, com uma taxa média de `110,11`. Certamente empresários que investiram em importados nesse período aproveitaram bons anos de lucros. Na sequência houve um período de grande oscilação nas vendas anuais, somente experimentando uma melhora consistente entre 2005 e 2011. Depois disso, os números não foram bons (exceto em 2018) até culminar com a trajédia nas vendas provocadas pelo covid19\n",
    "\n"
   ]
  },
  {
   "cell_type": "code",
   "execution_count": 6,
   "metadata": {},
   "outputs": [
    {
     "name": "stdout",
     "output_type": "stream",
     "text": [
      "Imported Licensed: 1991-1995 = 110.11\n"
     ]
    },
    {
     "data": {
      "image/png": "[encoded data removed]",
      "text/plain": [
       "<Figure size 1512x432 with 1 Axes>"
      ]
     },
     "metadata": {
      "needs_background": "light"
     },
     "output_type": "display_data"
    }
   ],
   "source": [
    "automobile_lic_yearly_variation_since_1991_df = automobile_lic_yearly_df.loc['1991-01-01':,['automobile_lic_national', 'automobile_lic_imported']].pct_change() * 100\n",
    "\n",
    "automobile_lic_yearly_variation_since_1991_df.plot(\n",
    "    title='Licensed Automobiles in Brazil - National & Imported - Variation % - 1991 - 2020',\n",
    "    kind='bar',\n",
    "    figsize=(21,6)\n",
    ")\n",
    "\n",
    "print(\"Imported Licensed: 1991-1995 = %.2f\" % automobile_lic_yearly_variation_since_1991_df.loc['1991-01-01':'1995-12-31', 'automobile_lic_imported'].mean())\n"
   ]
  },
  {
   "cell_type": "markdown",
   "metadata": {},
   "source": [
    "O impacto das novas montadoras que se instalaram no país a partir de 1998 pode ser identificado no grafico mais abaixo. Embora em 1999 oservemos uma retração de `-7,51%`, as vendas se mostraram bastante pujantes a partir de 2000 (com exceção de uma pequena queda em 2002), resultando em uma média de `+7,6%` e cujo melhor ano foi em 2007 com um crescimento de `+21,3%` nas vendas de veículos nacionais. Naquele ano, o Brasil se consolidou como a sexta maior indústria automobilística mundial."
   ]
  },
  {
   "cell_type": "code",
   "execution_count": 7,
   "metadata": {},
   "outputs": [
    {
     "data": {
      "text/plain": [
       "count    12.000000\n",
       "mean      7.601852\n",
       "std       8.329894\n",
       "min      -7.516355\n",
       "25%       2.274339\n",
       "50%       9.002218\n",
       "75%       9.979868\n",
       "max      21.336157\n",
       "Name: automobile_lic_national, dtype: float64"
      ]
     },
     "execution_count": 7,
     "metadata": {},
     "output_type": "execute_result"
    }
   ],
   "source": [
    "automobile_lic_yearly_variation_since_1991_df.loc['1999-01-01':'2010-12-31', 'automobile_lic_national'].describe()"
   ]
  },
  {
   "cell_type": "code",
   "execution_count": 8,
   "metadata": {},
   "outputs": [
    {
     "data": {
      "text/plain": [
       "<matplotlib.axes._subplots.AxesSubplot at 0x7f4c8e8b47b8>"
      ]
     },
     "execution_count": 8,
     "metadata": {},
     "output_type": "execute_result"
    },
    {
     "data": {
      "image/png": "[encoded data removed]",
      "text/plain": [
       "<Figure size 1512x432 with 1 Axes>"
      ]
     },
     "metadata": {
      "needs_background": "light"
     },
     "output_type": "display_data"
    }
   ],
   "source": [
    "automobile_lic_yearly_variation_since_1991_df.loc[\n",
    "        '1999-01-01':'2010-12-31', \n",
    "        'automobile_lic_national'].plot(\n",
    "    title='Licensed Automobiles in Brazil - National - Variation % - 1999 - 2010',\n",
    "    kind='bar',\n",
    "    figsize=(21,6)\n",
    ")"
   ]
  },
  {
   "cell_type": "markdown",
   "metadata": {},
   "source": [
    "# Conclusão & Próximos Passos\n",
    "\n",
    "Esta primeira análise dos dados de comercialização de vericulos de passeio no Brasil revelou alguns números interessantes. Trata-se de um negócio de altos e baixos, exigindo bastante gerenciamento por parte dos empresários. À parte a discussão sobre a (muito provável) exorbitante margem de lucro que está incorporada nos preços dos veículos e os constantes solavancos que a economia brasileira atravessou nas últimas decadas, ainda assim me parece que a indústria automotiva é bastante promissora, visto que o consumidor brasileiro tem um perfil bastante passional no momento de adquirir veículos e considerando-se também a péssima infra-estrutura de transporte público na maioria das cidades.\n",
    "\n",
    "Entretanto, o advento do Covid-19 pode mudar as perspectivas da indústria automobilística nacional. Se por um lado a desvalorização cambial pode favorecer a produção para exportação de veículos, por outro a retração da economia pode demandar um tempo maior para voltar a apresentar números de crescimento na casa dos dois dígitos, como os apresentados na primeira decada deste século, devido principalmente à demora da recuperação dos empregos perdidos e do poder econômico da população, pois provavelmente os empregos que surgirem pós-pandemia terão salários menores do que anteriormente. Outro aspecto negativo aos negócios será o que está sendo chamado de \"novo normal\": mudança do hábito do consumidor, que possivelmente usará mais veículos compartilhados, teletrabalho e compras online, exigindo assim portanto menor necessidade de transporte.\n",
    "\n",
    "Nos próximos artigos continuarei a investigar os números da comercialização de veículos de passeio no Brasil, focando no desempenho por trimestre e tentando identificar se existe ou não sazonalidade. Até lá!"
   ]
  }
 ],
 "metadata": {
  "kernelspec": {
   "display_name": "Python 3",
   "language": "python",
   "name": "python3"
  },
  "language_info": {
   "codemirror_mode": {
    "name": "ipython",
    "version": 3
   },
   "file_extension": ".py",
   "mimetype": "text/x-python",
   "name": "python",
   "nbconvert_exporter": "python",
   "pygments_lexer": "ipython3",
   "version": "3.7.7"
  },
  "nikola": {
   "category": "",
   "date": "2020-05-26 17:21:30 UTC-03:00",
   "description": "",
   "link": "",
   "slug": "analise-dados-anfavea-1957-2020-parte-01",
   "tags": "jupyter",
   "title": "Análise Dados Anfavea 1957 - 2020 - Parte 01",
   "type": "text"
  }
 },
 "nbformat": 4,
 "nbformat_minor": 4
}
