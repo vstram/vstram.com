{
 "cells": [
  {
   "cell_type": "markdown",
   "metadata": {},
   "source": [
    "Notebook em **Python** que mostra procedimentos para a obtenção do cálculo do **Desvio Padrão** a partir de um exemplo do livro **[Six Sigma: A Complete Step-by-Step Guide](https://www.sixsigmacouncil.org/wp-content/uploads/2018/08/Six-Sigma-A-Complete-Step-by-Step-Guide.pdf)**\n",
    "\n",
    "<!-- TEASER_END -->"
   ]
  },
  {
   "cell_type": "markdown",
   "metadata": {},
   "source": [
    "# Exemplos do livro Six Sigma: A Complete Step-by-Step Guide\n",
    "\n",
    "![Six Sigma: A Complete Step-by-Step Guide](https://raw.githubusercontent.com/vstram/SixSigmaInR/master/book_cover-small.jpg)\n"
   ]
  },
  {
   "cell_type": "markdown",
   "metadata": {},
   "source": [
    "## Conteúdo:\n",
    "* [Exercício](#Exercício)\n",
    "* [Procedimento](#Procedimento)\n",
    "* [Observações](#Observações)\n",
    "* [Solução Alternativa 1](#Solução-Alternativa-1)\n",
    "* [Solução Alternativa 2](#Solução-Alternativa-2)\n",
    "* [Referências](#Referências)"
   ]
  },
  {
   "cell_type": "markdown",
   "metadata": {},
   "source": [
    "## Exercício\n",
    "\n",
    "Neste primeiro exemplo (pág 63), o livro apresenta as notas de 15 alunos que devem ser avaliadas através do cálculo do desvio padrão. As notas dos alunos são:\n",
    "\n",
    "```\n",
    "67, 68, 73, 74, 81, 85, 88, 88, 90, 90, 90, 93, 94, 98, 99\n",
    "```"
   ]
  },
  {
   "cell_type": "markdown",
   "metadata": {},
   "source": [
    "### Procedimento\n",
    "\n",
    "1. [Opcional] Caso não tenha a biblioteca numpy instalada, use o comando abaixo (copie e cole em uma nova célula de código do Jupyter):\n",
    "\n",
    "`! pip install numpy`\n",
    "\n",
    "(dica: tecle `A` para inserir uma nova célula de código acima da célula selecionada)"
   ]
  },
  {
   "cell_type": "markdown",
   "metadata": {},
   "source": [
    "2. Após instalar a bilbioteca numpy, use o comando `import` para importa-la e depois crie um array para armazenar as notas dos alunos"
   ]
  },
  {
   "cell_type": "code",
   "execution_count": 1,
   "metadata": {},
   "outputs": [
    {
     "data": {
      "text/plain": [
       "array([67, 68, 73, 74, 81, 85, 88, 88, 90, 90, 90, 93, 94, 98, 99])"
      ]
     },
     "execution_count": 1,
     "metadata": {},
     "output_type": "execute_result"
    }
   ],
   "source": [
    "import numpy as np\n",
    "\n",
    "v = np.array([67, 68, 73, 74, 81, 85, 88, 88, 90, 90, 90, 93, 94, 98, 99])\n",
    "v"
   ]
  },
  {
   "cell_type": "markdown",
   "metadata": {},
   "source": [
    "3. Calcule a média dos valores deste array.\n",
    "\n",
    "Equivalente à: $\\mu = \\frac{1}{n}\\sum_{i}^{n} x_{i}$"
   ]
  },
  {
   "cell_type": "code",
   "execution_count": 2,
   "metadata": {},
   "outputs": [
    {
     "data": {
      "text/plain": [
       "85.2"
      ]
     },
     "execution_count": 2,
     "metadata": {},
     "output_type": "execute_result"
    }
   ],
   "source": [
    "mean_v = v.mean()\n",
    "mean_v"
   ]
  },
  {
   "cell_type": "markdown",
   "metadata": {},
   "source": [
    "3. Subtraia a média de cada elemento do vector e elevar ao quadrado\n",
    "\n",
    "Realizamos a operação de subtração entre parênteses e depois usamos a função ```pow(vector, 2)``` para elevar ao quadrado. Esta operação é realizada em cada elemento do vector\n",
    "\n",
    "Equivalente à: $(x_{i} - \\mu)^{2}$"
   ]
  },
  {
   "cell_type": "code",
   "execution_count": 3,
   "metadata": {},
   "outputs": [
    {
     "data": {
      "text/plain": [
       "array([3.3124e+02, 2.9584e+02, 1.4884e+02, 1.2544e+02, 1.7640e+01,\n",
       "       4.0000e-02, 7.8400e+00, 7.8400e+00, 2.3040e+01, 2.3040e+01,\n",
       "       2.3040e+01, 6.0840e+01, 7.7440e+01, 1.6384e+02, 1.9044e+02])"
      ]
     },
     "execution_count": 3,
     "metadata": {},
     "output_type": "execute_result"
    }
   ],
   "source": [
    "v_minus_mean_v_sq2 = pow((v - mean_v), 2)\n",
    "v_minus_mean_v_sq2"
   ]
  },
  {
   "cell_type": "markdown",
   "metadata": {},
   "source": [
    "4. Calcule a média dos valores para encontrar a variância de todos os valores do vetor, isto é, em __toda a população__.\n",
    "\n",
    "Equivalente à: $s^{2} = \\frac{1}{n}\\sum_{i}^{n} (x_{i} - \\mu)^{2}$"
   ]
  },
  {
   "cell_type": "code",
   "execution_count": 4,
   "metadata": {},
   "outputs": [
    {
     "data": {
      "text/plain": [
       "99.76"
      ]
     },
     "execution_count": 4,
     "metadata": {},
     "output_type": "execute_result"
    }
   ],
   "source": [
    "variance = v_minus_mean_v_sq2.mean()\n",
    "variance"
   ]
  },
  {
   "cell_type": "markdown",
   "metadata": {},
   "source": [
    "5. Calcule a raiz quadrada da variância para obter o desvio padrão. Usar a função ```sqrt``` da biblioteca ```math```\n",
    "\n",
    "Equivalente à: $s = \\sqrt{\\frac{1}{n} \\sum_{i}^{n} (x_{i} - \\mu)^{2}}$"
   ]
  },
  {
   "cell_type": "code",
   "execution_count": 5,
   "metadata": {},
   "outputs": [
    {
     "data": {
      "text/plain": [
       "9.987992791347018"
      ]
     },
     "execution_count": 5,
     "metadata": {},
     "output_type": "execute_result"
    }
   ],
   "source": [
    "import math\n",
    "std_dev = math.sqrt(variance)\n",
    "std_dev"
   ]
  },
  {
   "cell_type": "markdown",
   "metadata": {},
   "source": [
    "### Observações\n",
    "\n",
    "1. A fórmula apresentada neste exemplo para o cálculo da variância e do desvio padrão deve ser usada apenas quando estão disponíveis todos os dados a serem analisados (e não em uma amostra dos dados). Tal cálculo também é conhecido como \"desvio padrão de uma população finita\".\n",
    "1. Obviamente, não é necessário calcular a média e a variância para se obter o desvio padrão com o `numpy`. Foi feito assim a título de demonstração. A variância e o desvio padrão pode ser calculado diretamente com a função `var` e `std` respectivamente:"
   ]
  },
  {
   "cell_type": "code",
   "execution_count": 6,
   "metadata": {},
   "outputs": [
    {
     "name": "stdout",
     "output_type": "stream",
     "text": [
      "Cálculo direto usando a Biblioteca numpy\n",
      "\n",
      "Variância (população finita): 99.76\n",
      "Desvio Padrão (população finita): 9.987992791347018\n"
     ]
    }
   ],
   "source": [
    "print(\"Cálculo direto usando a Biblioteca numpy\\n\")\n",
    "print(f\"Variância (população finita): {v.var()}\")\n",
    "print(f\"Desvio Padrão (população finita): {v.std()}\")"
   ]
  },
  {
   "cell_type": "markdown",
   "metadata": {},
   "source": [
    "3. Caso deseje calcular a variância e desvio padrão para uma população infinita, deve-se utilizar como parâmetro `ddof=1` na chamada das funções `var` e `std`. Observe:"
   ]
  },
  {
   "cell_type": "code",
   "execution_count": 7,
   "metadata": {},
   "outputs": [
    {
     "name": "stdout",
     "output_type": "stream",
     "text": [
      "Variância (população infinita): 106.88571428571429\n",
      "Desvio Padrão (população infinita): 10.338554748402423\n"
     ]
    }
   ],
   "source": [
    "print(f\"Variância (população infinita): {v.var(ddof=1)}\")\n",
    "print(f\"Desvio Padrão (população infinita): {v.std(ddof=1)}\")"
   ]
  },
  {
   "cell_type": "markdown",
   "metadata": {},
   "source": [
    "## Solução Alternativa 1\n",
    "\n",
    "Caso não deseje usar o numpy, é possível realizar este mesmo cálculo usando as bibliotecas padrão do Python.\n",
    "Pessoalmente prefiro usar o numpy, pois à medida que suas análises forem ficando mais complicadas, torna-se útil utilizar uma bilbioteca mais avançada e com mais recursos como o `numpy`."
   ]
  },
  {
   "cell_type": "code",
   "execution_count": 8,
   "metadata": {},
   "outputs": [
    {
     "name": "stdout",
     "output_type": "stream",
     "text": [
      "Cálculos usando a Biblioteca padrão statistics\n",
      "(Não é necessário nenhuma instalação adicional):\n",
      "\n",
      "Média: 85.2\n",
      "Variância (população finita): 99.76\n",
      "Desvio Padrão (população finita): 9.987992791347018\n",
      "Variância (população infinita): 106.88571428571429\n",
      "Desvio Padrão (população infinita): 10.338554748402423\n"
     ]
    }
   ],
   "source": [
    "import statistics\n",
    "\n",
    "print(\"Cálculos usando a Biblioteca padrão statistics\")\n",
    "print(\"(Não é necessário nenhuma instalação adicional):\\n\")\n",
    "v1 = [67, 68, 73, 74, 81, 85, 88, 88, 90, 90, 90, 93, 94, 98, 99]\n",
    "mean_v1 = statistics.mean(v1)\n",
    "print(f\"Média: {mean_v1}\")\n",
    "variance1a = statistics.pvariance(v1)\n",
    "print(f\"Variância (população finita): {variance1a}\")\n",
    "std_dev1a = statistics.pstdev(v1)\n",
    "print(f\"Desvio Padrão (população finita): {std_dev1a}\")\n",
    "variance1b = statistics.variance(v1)\n",
    "print(f\"Variância (amostra de população infinita): {variance1b}\")\n",
    "std_dev1b = statistics.stdev(v1)\n",
    "print(f\"Desvio Padrão (amostra de população infinita): {std_dev1b}\")"
   ]
  },
  {
   "cell_type": "markdown",
   "metadata": {},
   "source": [
    "## Solução Alternativa 2\n",
    "\n",
    "Pode-se utilizar também a biblioteca `SciPy` para fazer este cálculo. A bibliteca `SciPy` contém inúmeras funções para análises estatísticas avançadas. Utilize quando precisar realizar uma análise estatística mais complexa e não desejar usar o `numpy`.\n",
    "\n",
    "Para instalar, use: `! pip install scipy`"
   ]
  },
  {
   "cell_type": "code",
   "execution_count": 11,
   "metadata": {},
   "outputs": [
    {
     "name": "stdout",
     "output_type": "stream",
     "text": [
      "Cálculos usando a Biblioteca SciPy:\n",
      "\n",
      "Média: 85.2\n",
      "Variância (população finita): 99.76\n",
      "Desvio Padrão (população finita): 9.987992791347018\n",
      "Variância (amostra de população infinita): 106.88571428571429\n",
      "Desvio Padrão (amostra de população infinita): 10.338554748402423\n"
     ]
    }
   ],
   "source": [
    "from scipy import stats\n",
    "\n",
    "print(\"Cálculos usando a Biblioteca SciPy:\\n\")\n",
    "mean_v2 = stats.tmean(v1)\n",
    "print(f\"Média: {mean_v2}\")\n",
    "variance2a = stats.tvar(v1, ddof=0)\n",
    "print(f\"Variância (população finita): {variance2a}\")\n",
    "variance2b = stats.tvar(v1, ddof=1)\n",
    "print(f\"Desvio Padrão (população finita): {std_dev2a}\")\n",
    "std_dev2b = stats.tstd(v1, ddof=1)\n",
    "print(f\"Variância (amostra de população infinita): {variance2b}\")\n",
    "std_dev2a = stats.tstd(v1, ddof=0)\n",
    "print(f\"Desvio Padrão (amostra de população infinita): {std_dev2b}\")"
   ]
  },
  {
   "cell_type": "markdown",
   "metadata": {},
   "source": [
    "## Referências\n",
    "\n",
    "Este notebook contém exemplos do livro **[Six Sigma: A Complete Step-by-Step Guide](https://www.sixsigmacouncil.org/wp-content/uploads/2018/08/Six-Sigma-A-Complete-Step-by-Step-Guide.pdf)** disponibilizado pelo [The Council for Six Sigma Certification](https://www.sixsigmacouncil.org/six-sigma-training-material/)\n",
    "\n",
    "Bibliotecas utilizadas\n",
    "\n",
    "* [Numpy - std](https://numpy.org/doc/stable/reference/generated/numpy.std.html?highlight=std#numpy.std): documentação Numpy\n",
    "* [Python - Statistics](https://docs.python.org/3.7/library/statistics.html?highlight=std#module-statistics): documentação Python\n",
    "* [Scipy](https://docs.scipy.org/doc/scipy/reference/stats.html#summary-statistics): documentação SciPy"
   ]
  }
 ],
 "metadata": {
  "kernelspec": {
   "display_name": "Python 3",
   "language": "python",
   "name": "python3"
  },
  "language_info": {
   "codemirror_mode": {
    "name": "ipython",
    "version": 3
   },
   "file_extension": ".py",
   "mimetype": "text/x-python",
   "name": "python",
   "nbconvert_exporter": "python",
   "pygments_lexer": "ipython3",
   "version": "3.7.7"
  },
  "nikola": {
   "category": "estatistica",
   "date": "2020-08-02 17:21:30 UTC-03:00",
   "description": "",
   "link": "",
   "slug": "desvio-padrao-six-sigma",
   "tags": [
    "jupyter",
    "six sigma",
    "python",
    "numpy",
    "scipy",
    "desvio padrao",
    "mathjax"
   ],
   "title": "Desvio Padrão - Python - Six Sigma",
   "type": "text"
  }
 },
 "nbformat": 4,
 "nbformat_minor": 4
}
