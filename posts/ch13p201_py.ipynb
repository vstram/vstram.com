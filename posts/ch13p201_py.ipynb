{
 "cells": [
  {
   "cell_type": "markdown",
   "metadata": {},
   "source": [
    "Notebook em **Python** que mostra procedimentos para a obtenção de um **Gráfico de Linha** e de um **Gráfico de Barras** a partir de um exemplo do livro **[Six Sigma: A Complete Step-by-Step Guide](https://www.sixsigmacouncil.org/wp-content/uploads/2018/08/Six-Sigma-A-Complete-Step-by-Step-Guide.pdf)**\n",
    "\n",
    "<!-- TEASER_END -->"
   ]
  },
  {
   "cell_type": "markdown",
   "metadata": {},
   "source": [
    "# Exemplos do livro Six Sigma: A Complete Step-by-Step Guide\n",
    "\n",
    "![Six Sigma: A Complete Step-by-Step Guide](https://raw.githubusercontent.com/vstram/SixSigmaInR/master/book_cover-small.jpg)"
   ]
  },
  {
   "cell_type": "markdown",
   "metadata": {},
   "source": [
    "## Conteúdo:\n",
    "* [Exercício](#Exercício)\n",
    "* [Procedimento](#Procedimento)\n",
    "* [Solução Alternativa](#Solução-Alternativa)\n",
    "* [Referências](#Referências)"
   ]
  },
  {
   "cell_type": "markdown",
   "metadata": {},
   "source": [
    "## Exercício\n",
    "\n",
    "O exercício (pág 201) pede para calcular a taxa de retornos a cada 100 vendas ao longo de 12 meses. A tabela com o número de retornos e o número de vendas para esse período é fornecida."
   ]
  },
  {
   "cell_type": "markdown",
   "metadata": {},
   "source": [
    "## Procedimento"
   ]
  },
  {
   "cell_type": "code",
   "execution_count": 46,
   "metadata": {},
   "outputs": [],
   "source": [
    "import pandas as pd\n",
    "import matplotlib.pyplot as plt\n",
    "import seaborn as sns"
   ]
  },
  {
   "cell_type": "markdown",
   "metadata": {},
   "source": [
    "### 1. Carregar os dados a partir do arquivo CSV"
   ]
  },
  {
   "cell_type": "code",
   "execution_count": 47,
   "metadata": {},
   "outputs": [
    {
     "data": {
      "text/html": [
       "<div>\n",
       "<style scoped>\n",
       "    .dataframe tbody tr th:only-of-type {\n",
       "        vertical-align: middle;\n",
       "    }\n",
       "\n",
       "    .dataframe tbody tr th {\n",
       "        vertical-align: top;\n",
       "    }\n",
       "\n",
       "    .dataframe thead th {\n",
       "        text-align: right;\n",
       "    }\n",
       "</style>\n",
       "<table border=\"1\" class=\"dataframe\">\n",
       "  <thead>\n",
       "    <tr style=\"text-align: right;\">\n",
       "      <th></th>\n",
       "      <th>Month</th>\n",
       "      <th>NumberOfReturns</th>\n",
       "      <th>NumberOfSales</th>\n",
       "    </tr>\n",
       "  </thead>\n",
       "  <tbody>\n",
       "    <tr>\n",
       "      <th>0</th>\n",
       "      <td>January</td>\n",
       "      <td>105</td>\n",
       "      <td>3500</td>\n",
       "    </tr>\n",
       "    <tr>\n",
       "      <th>1</th>\n",
       "      <td>Febrary</td>\n",
       "      <td>95</td>\n",
       "      <td>2200</td>\n",
       "    </tr>\n",
       "    <tr>\n",
       "      <th>2</th>\n",
       "      <td>March</td>\n",
       "      <td>125</td>\n",
       "      <td>2500</td>\n",
       "    </tr>\n",
       "    <tr>\n",
       "      <th>3</th>\n",
       "      <td>April</td>\n",
       "      <td>140</td>\n",
       "      <td>2800</td>\n",
       "    </tr>\n",
       "    <tr>\n",
       "      <th>4</th>\n",
       "      <td>May</td>\n",
       "      <td>215</td>\n",
       "      <td>3000</td>\n",
       "    </tr>\n",
       "    <tr>\n",
       "      <th>5</th>\n",
       "      <td>June</td>\n",
       "      <td>200</td>\n",
       "      <td>2900</td>\n",
       "    </tr>\n",
       "    <tr>\n",
       "      <th>6</th>\n",
       "      <td>Jule</td>\n",
       "      <td>190</td>\n",
       "      <td>2700</td>\n",
       "    </tr>\n",
       "    <tr>\n",
       "      <th>7</th>\n",
       "      <td>August</td>\n",
       "      <td>245</td>\n",
       "      <td>3300</td>\n",
       "    </tr>\n",
       "    <tr>\n",
       "      <th>8</th>\n",
       "      <td>September</td>\n",
       "      <td>225</td>\n",
       "      <td>3100</td>\n",
       "    </tr>\n",
       "    <tr>\n",
       "      <th>9</th>\n",
       "      <td>October</td>\n",
       "      <td>270</td>\n",
       "      <td>3700</td>\n",
       "    </tr>\n",
       "    <tr>\n",
       "      <th>10</th>\n",
       "      <td>November</td>\n",
       "      <td>285</td>\n",
       "      <td>4000</td>\n",
       "    </tr>\n",
       "    <tr>\n",
       "      <th>11</th>\n",
       "      <td>December</td>\n",
       "      <td>250</td>\n",
       "      <td>4200</td>\n",
       "    </tr>\n",
       "  </tbody>\n",
       "</table>\n",
       "</div>"
      ],
      "text/plain": [
       "        Month  NumberOfReturns  NumberOfSales\n",
       "0     January              105           3500\n",
       "1     Febrary               95           2200\n",
       "2       March              125           2500\n",
       "3       April              140           2800\n",
       "4         May              215           3000\n",
       "5        June              200           2900\n",
       "6        Jule              190           2700\n",
       "7      August              245           3300\n",
       "8   September              225           3100\n",
       "9     October              270           3700\n",
       "10   November              285           4000\n",
       "11   December              250           4200"
      ]
     },
     "execution_count": 47,
     "metadata": {},
     "output_type": "execute_result"
    }
   ],
   "source": [
    "filename = \"ch13p201.txt\"\n",
    "df = pd.read_csv(filename)\n",
    "df"
   ]
  },
  {
   "cell_type": "markdown",
   "metadata": {},
   "source": [
    "### 2. Calcular a taxa de retornos\n",
    "\n",
    "A taxa de retorno é definida como $ReturnsRate = \\frac{NumberOfReturns}{NumberOfSales} \\times 100$"
   ]
  },
  {
   "cell_type": "code",
   "execution_count": 48,
   "metadata": {},
   "outputs": [
    {
     "data": {
      "text/html": [
       "<div>\n",
       "<style scoped>\n",
       "    .dataframe tbody tr th:only-of-type {\n",
       "        vertical-align: middle;\n",
       "    }\n",
       "\n",
       "    .dataframe tbody tr th {\n",
       "        vertical-align: top;\n",
       "    }\n",
       "\n",
       "    .dataframe thead th {\n",
       "        text-align: right;\n",
       "    }\n",
       "</style>\n",
       "<table border=\"1\" class=\"dataframe\">\n",
       "  <thead>\n",
       "    <tr style=\"text-align: right;\">\n",
       "      <th></th>\n",
       "      <th>Month</th>\n",
       "      <th>NumberOfReturns</th>\n",
       "      <th>NumberOfSales</th>\n",
       "      <th>ReturnsRate</th>\n",
       "    </tr>\n",
       "  </thead>\n",
       "  <tbody>\n",
       "    <tr>\n",
       "      <th>0</th>\n",
       "      <td>January</td>\n",
       "      <td>105</td>\n",
       "      <td>3500</td>\n",
       "      <td>3.000000</td>\n",
       "    </tr>\n",
       "    <tr>\n",
       "      <th>1</th>\n",
       "      <td>Febrary</td>\n",
       "      <td>95</td>\n",
       "      <td>2200</td>\n",
       "      <td>4.318182</td>\n",
       "    </tr>\n",
       "    <tr>\n",
       "      <th>2</th>\n",
       "      <td>March</td>\n",
       "      <td>125</td>\n",
       "      <td>2500</td>\n",
       "      <td>5.000000</td>\n",
       "    </tr>\n",
       "    <tr>\n",
       "      <th>3</th>\n",
       "      <td>April</td>\n",
       "      <td>140</td>\n",
       "      <td>2800</td>\n",
       "      <td>5.000000</td>\n",
       "    </tr>\n",
       "    <tr>\n",
       "      <th>4</th>\n",
       "      <td>May</td>\n",
       "      <td>215</td>\n",
       "      <td>3000</td>\n",
       "      <td>7.166667</td>\n",
       "    </tr>\n",
       "    <tr>\n",
       "      <th>5</th>\n",
       "      <td>June</td>\n",
       "      <td>200</td>\n",
       "      <td>2900</td>\n",
       "      <td>6.896552</td>\n",
       "    </tr>\n",
       "    <tr>\n",
       "      <th>6</th>\n",
       "      <td>Jule</td>\n",
       "      <td>190</td>\n",
       "      <td>2700</td>\n",
       "      <td>7.037037</td>\n",
       "    </tr>\n",
       "    <tr>\n",
       "      <th>7</th>\n",
       "      <td>August</td>\n",
       "      <td>245</td>\n",
       "      <td>3300</td>\n",
       "      <td>7.424242</td>\n",
       "    </tr>\n",
       "    <tr>\n",
       "      <th>8</th>\n",
       "      <td>September</td>\n",
       "      <td>225</td>\n",
       "      <td>3100</td>\n",
       "      <td>7.258065</td>\n",
       "    </tr>\n",
       "    <tr>\n",
       "      <th>9</th>\n",
       "      <td>October</td>\n",
       "      <td>270</td>\n",
       "      <td>3700</td>\n",
       "      <td>7.297297</td>\n",
       "    </tr>\n",
       "    <tr>\n",
       "      <th>10</th>\n",
       "      <td>November</td>\n",
       "      <td>285</td>\n",
       "      <td>4000</td>\n",
       "      <td>7.125000</td>\n",
       "    </tr>\n",
       "    <tr>\n",
       "      <th>11</th>\n",
       "      <td>December</td>\n",
       "      <td>250</td>\n",
       "      <td>4200</td>\n",
       "      <td>5.952381</td>\n",
       "    </tr>\n",
       "  </tbody>\n",
       "</table>\n",
       "</div>"
      ],
      "text/plain": [
       "        Month  NumberOfReturns  NumberOfSales  ReturnsRate\n",
       "0     January              105           3500     3.000000\n",
       "1     Febrary               95           2200     4.318182\n",
       "2       March              125           2500     5.000000\n",
       "3       April              140           2800     5.000000\n",
       "4         May              215           3000     7.166667\n",
       "5        June              200           2900     6.896552\n",
       "6        Jule              190           2700     7.037037\n",
       "7      August              245           3300     7.424242\n",
       "8   September              225           3100     7.258065\n",
       "9     October              270           3700     7.297297\n",
       "10   November              285           4000     7.125000\n",
       "11   December              250           4200     5.952381"
      ]
     },
     "execution_count": 48,
     "metadata": {},
     "output_type": "execute_result"
    }
   ],
   "source": [
    "df[\"ReturnsRate\"] = df[\"NumberOfReturns\"] / df[\"NumberOfSales\"] * 100\n",
    "df"
   ]
  },
  {
   "cell_type": "markdown",
   "metadata": {},
   "source": [
    "### 3. Plotar o gráfico\n",
    "\n",
    "A biblioteca `seaborn` possui um arsenal de possibilidades de configuração do gráfico bastante grande e poderoso. Pode-se usar este poderio para 'passar a mensagem' em seus gráficos."
   ]
  },
  {
   "cell_type": "code",
   "execution_count": 49,
   "metadata": {},
   "outputs": [
    {
     "data": {
      "text/plain": [
       "6.9667943805874835"
      ]
     },
     "execution_count": 49,
     "metadata": {},
     "output_type": "execute_result"
    }
   ],
   "source": [
    "# Calcula a mediana dos dados de ReturnsRate\n",
    "med = df[\"ReturnsRate\"].median()\n",
    "med"
   ]
  },
  {
   "cell_type": "code",
   "execution_count": 50,
   "metadata": {},
   "outputs": [
    {
     "data": {
      "image/png": "[encoded data removed]",
      "text/plain": [
       "<Figure size 1152x576 with 1 Axes>"
      ]
     },
     "metadata": {},
     "output_type": "display_data"
    }
   ],
   "source": [
    "# Configura o tamanho do grafico\n",
    "plt.figure(figsize=(16,8))\n",
    "\n",
    "# Cria e configura o gráfico de linhas\n",
    "ax = sns.lineplot(\n",
    "    x=\"Month\", # título eixo x\n",
    "    y=\"ReturnsRate\", # título eixo y\n",
    "    sort=False, # não ordena os dados\n",
    "    marker=\"D\", # define símbolo 'diamante'\n",
    "    markersize=10, # define o tamanho do símbolo\n",
    "    data=df, \n",
    ")\n",
    "\n",
    "# Desenha uma linha horizontal, junto com uma anotação\n",
    "ax.axhline(med, ls='--')\n",
    "ax.text(0.5,med + 0.1, f\"Median: {med:.2f}\")\n",
    "\n",
    "# Configura os títulos\n",
    "plt.suptitle(\"2020 Return Rate\", fontsize=30) # define e ajusta o tamanho da fonte do título\n",
    "plt.title(\"% Returns by month\", fontsize=15) # define e ajusta o tamanho da fonte do subtítulo\n",
    "\n",
    "# Ajusta a inclinação dos labels do eixo x\n",
    "for tick in ax.get_xticklabels():\n",
    "    tick.set_rotation(90)"
   ]
  },
  {
   "cell_type": "markdown",
   "metadata": {},
   "source": [
    "## Solução Alternativa\n",
    "\n",
    "Embora o exemplo solicitasse um gráfico de linha, às vezes para passar a mensagem deve-se pensar em outro tipo de gráfico. Pessoalmente, gosto do gráfico de barras. No exemplo abaixo, o gráfico foi configurado para colorir apenas as barras que ultrapassaram a mediana. Esse mesmo método pode ser usado para destacar barras através de um critério mais complexo, caso seja necessário."
   ]
  },
  {
   "cell_type": "code",
   "execution_count": 51,
   "metadata": {},
   "outputs": [
    {
     "data": {
      "text/html": [
       "<div>\n",
       "<style scoped>\n",
       "    .dataframe tbody tr th:only-of-type {\n",
       "        vertical-align: middle;\n",
       "    }\n",
       "\n",
       "    .dataframe tbody tr th {\n",
       "        vertical-align: top;\n",
       "    }\n",
       "\n",
       "    .dataframe thead th {\n",
       "        text-align: right;\n",
       "    }\n",
       "</style>\n",
       "<table border=\"1\" class=\"dataframe\">\n",
       "  <thead>\n",
       "    <tr style=\"text-align: right;\">\n",
       "      <th></th>\n",
       "      <th>Month</th>\n",
       "      <th>NumberOfReturns</th>\n",
       "      <th>NumberOfSales</th>\n",
       "      <th>ReturnsRate</th>\n",
       "      <th>AboveMedian</th>\n",
       "    </tr>\n",
       "  </thead>\n",
       "  <tbody>\n",
       "    <tr>\n",
       "      <th>0</th>\n",
       "      <td>January</td>\n",
       "      <td>105</td>\n",
       "      <td>3500</td>\n",
       "      <td>3.000000</td>\n",
       "      <td>False</td>\n",
       "    </tr>\n",
       "    <tr>\n",
       "      <th>1</th>\n",
       "      <td>Febrary</td>\n",
       "      <td>95</td>\n",
       "      <td>2200</td>\n",
       "      <td>4.318182</td>\n",
       "      <td>False</td>\n",
       "    </tr>\n",
       "    <tr>\n",
       "      <th>2</th>\n",
       "      <td>March</td>\n",
       "      <td>125</td>\n",
       "      <td>2500</td>\n",
       "      <td>5.000000</td>\n",
       "      <td>False</td>\n",
       "    </tr>\n",
       "    <tr>\n",
       "      <th>3</th>\n",
       "      <td>April</td>\n",
       "      <td>140</td>\n",
       "      <td>2800</td>\n",
       "      <td>5.000000</td>\n",
       "      <td>False</td>\n",
       "    </tr>\n",
       "    <tr>\n",
       "      <th>4</th>\n",
       "      <td>May</td>\n",
       "      <td>215</td>\n",
       "      <td>3000</td>\n",
       "      <td>7.166667</td>\n",
       "      <td>True</td>\n",
       "    </tr>\n",
       "    <tr>\n",
       "      <th>5</th>\n",
       "      <td>June</td>\n",
       "      <td>200</td>\n",
       "      <td>2900</td>\n",
       "      <td>6.896552</td>\n",
       "      <td>False</td>\n",
       "    </tr>\n",
       "    <tr>\n",
       "      <th>6</th>\n",
       "      <td>Jule</td>\n",
       "      <td>190</td>\n",
       "      <td>2700</td>\n",
       "      <td>7.037037</td>\n",
       "      <td>True</td>\n",
       "    </tr>\n",
       "    <tr>\n",
       "      <th>7</th>\n",
       "      <td>August</td>\n",
       "      <td>245</td>\n",
       "      <td>3300</td>\n",
       "      <td>7.424242</td>\n",
       "      <td>True</td>\n",
       "    </tr>\n",
       "    <tr>\n",
       "      <th>8</th>\n",
       "      <td>September</td>\n",
       "      <td>225</td>\n",
       "      <td>3100</td>\n",
       "      <td>7.258065</td>\n",
       "      <td>True</td>\n",
       "    </tr>\n",
       "    <tr>\n",
       "      <th>9</th>\n",
       "      <td>October</td>\n",
       "      <td>270</td>\n",
       "      <td>3700</td>\n",
       "      <td>7.297297</td>\n",
       "      <td>True</td>\n",
       "    </tr>\n",
       "    <tr>\n",
       "      <th>10</th>\n",
       "      <td>November</td>\n",
       "      <td>285</td>\n",
       "      <td>4000</td>\n",
       "      <td>7.125000</td>\n",
       "      <td>True</td>\n",
       "    </tr>\n",
       "    <tr>\n",
       "      <th>11</th>\n",
       "      <td>December</td>\n",
       "      <td>250</td>\n",
       "      <td>4200</td>\n",
       "      <td>5.952381</td>\n",
       "      <td>False</td>\n",
       "    </tr>\n",
       "  </tbody>\n",
       "</table>\n",
       "</div>"
      ],
      "text/plain": [
       "        Month  NumberOfReturns  NumberOfSales  ReturnsRate  AboveMedian\n",
       "0     January              105           3500     3.000000        False\n",
       "1     Febrary               95           2200     4.318182        False\n",
       "2       March              125           2500     5.000000        False\n",
       "3       April              140           2800     5.000000        False\n",
       "4         May              215           3000     7.166667         True\n",
       "5        June              200           2900     6.896552        False\n",
       "6        Jule              190           2700     7.037037         True\n",
       "7      August              245           3300     7.424242         True\n",
       "8   September              225           3100     7.258065         True\n",
       "9     October              270           3700     7.297297         True\n",
       "10   November              285           4000     7.125000         True\n",
       "11   December              250           4200     5.952381        False"
      ]
     },
     "execution_count": 51,
     "metadata": {},
     "output_type": "execute_result"
    }
   ],
   "source": [
    "# Define critério usado para destacar as barras\n",
    "df[\"AboveMedian\"] = df[\"ReturnsRate\"] > med\n",
    "df"
   ]
  },
  {
   "cell_type": "code",
   "execution_count": 62,
   "metadata": {
    "scrolled": false
   },
   "outputs": [
    {
     "data": {
      "image/png": "[encoded data removed]",
      "text/plain": [
       "<Figure size 1152x576 with 1 Axes>"
      ]
     },
     "metadata": {},
     "output_type": "display_data"
    }
   ],
   "source": [
    "# Configura o tamanho do gráfico\n",
    "plt.figure(figsize=(16,8))\n",
    "\n",
    "# Cria e configura o gráfico de linhas\n",
    "ax = sns.barplot(\n",
    "    x=\"Month\", # título eixo x\n",
    "    y=\"ReturnsRate\", # título eixo y\n",
    "    data=df, \n",
    "    hue=\"AboveMedian\", # agrupa as barras segundo o critério, colorindo True e \n",
    "    dodge=False # importante para manter as barras alinhadas uniformemente\n",
    ")\n",
    "\n",
    "# Desenha uma linha horizontal, junto com uma anotação\n",
    "ax.axhline(med, ls='--')\n",
    "ax.text(1,med + 0.1, f\"Median: {med:.2f}\")\n",
    "\n",
    "# Configura os títulos\n",
    "plt.suptitle(\"2020 Return Rate\", fontsize=30) # define e ajusta o tamanho da fonte do título\n",
    "plt.title(\"% Returns by month\", fontsize=15) # define e ajusta o tamanho da fonte do subtítulo\n",
    "\n",
    "# Ajusta a inclinação dos labels do eixo x\n",
    "for tick in ax.get_xticklabels():\n",
    "    tick.set_rotation(90)"
   ]
  },
  {
   "cell_type": "markdown",
   "metadata": {},
   "source": [
    "## Referências\n",
    "\n",
    "Este notebook contém exemplos do livro **[Six Sigma: A Complete Step-by-Step Guide](https://www.sixsigmacouncil.org/wp-content/uploads/2018/08/Six-Sigma-A-Complete-Step-by-Step-Guide.pdf)** disponibilizado pelo [The Council for Six Sigma Certification](https://www.sixsigmacouncil.org/six-sigma-training-material/)\n",
    "\n",
    "Consulte:\n",
    "* [Seaborn](https://seaborn.pydata.org/index.html)"
   ]
  }
 ],
 "metadata": {
  "kernelspec": {
   "display_name": "Python 3",
   "language": "python",
   "name": "python3"
  },
  "language_info": {
   "codemirror_mode": {
    "name": "ipython",
    "version": 3
   },
   "file_extension": ".py",
   "mimetype": "text/x-python",
   "name": "python",
   "nbconvert_exporter": "python",
   "pygments_lexer": "ipython3",
   "version": "3.7.7"
  },
  "nikola": {
   "category": "estatistica",
   "date": "2020-08-04 12:21:30 UTC-03:00",
   "description": "",
   "link": "",
   "slug": "grafico_de_linha_python_six_sigma_cssc",
   "tags": [
    "jupyter",
    "six sigma",
    "cssc",
    "python",
    "pandas",
    "seaborn",
    "desvio padrao",
    "mathjax"
   ],
   "title": "Gráfico de Linha - Python - Six Sigma - CSSC",
   "type": "text"
  }
 },
 "nbformat": 4,
 "nbformat_minor": 4
}
